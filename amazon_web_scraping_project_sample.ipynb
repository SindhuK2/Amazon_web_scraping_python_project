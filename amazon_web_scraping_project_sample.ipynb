{
 "cells": [
  {
   "cell_type": "code",
   "execution_count": null,
   "id": "993fabc9-4ac4-4134-83f2-878420d5b332",
   "metadata": {},
   "outputs": [],
   "source": [
    "!pip install bs4"
   ]
  },
  {
   "cell_type": "code",
   "execution_count": null,
   "id": "09d40ebd-8d5f-4a2a-b4ec-e5235c25c7e8",
   "metadata": {},
   "outputs": [],
   "source": [
    "!pip install requests"
   ]
  },
  {
   "cell_type": "code",
   "execution_count": null,
   "id": "64501ccf-078f-444f-bf7a-5432b776a306",
   "metadata": {},
   "outputs": [],
   "source": [
    "!pip install pandas"
   ]
  },
  {
   "cell_type": "code",
   "execution_count": null,
   "id": "c337688e-a9e1-4727-b048-d893be67999f",
   "metadata": {},
   "outputs": [],
   "source": [
    "# import packages\n",
    "from bs4 import BeautifulSoup\n",
    "import requests\n",
    "import pandas as pd"
   ]
  },
  {
   "cell_type": "code",
   "execution_count": null,
   "id": "333b35d6-f988-4828-b406-46ab8a79425f",
   "metadata": {},
   "outputs": [],
   "source": [
    "URL = \"https://www.amazon.com/s?k=playstation+5&crid=3BV45YDFQQE2G&sprefix=playstation+4%2Caps%2C269&ref=nb_sb_noss_2\""
   ]
  },
  {
   "cell_type": "code",
   "execution_count": null,
   "id": "8afae7d0-a615-4bcd-b0b0-497a3dd48e30",
   "metadata": {},
   "outputs": [],
   "source": [
    "# Headers for request\n",
    "HEADERS = ({\"User-Agent\": \"Mozilla/5.0 (Windows NT 10.0; Win64; x64) AppleWebKit/537.36 (KHTML, like Gecko) Chrome/127.0.0.0 Safari/537.36\", \"Accept-Language\": \"en-US, en;q=0.5\"})"
   ]
  },
  {
   "cell_type": "code",
   "execution_count": null,
   "id": "778f3e36-9e77-4373-8761-5f1b4e07ebfa",
   "metadata": {},
   "outputs": [],
   "source": [
    "# HTTP Request\n",
    "webpage = requests.get(URL, headers= HEADERS)"
   ]
  },
  {
   "cell_type": "code",
   "execution_count": null,
   "id": "83171f87-0095-439c-b698-6c0e32b291ad",
   "metadata": {},
   "outputs": [],
   "source": [
    "webpage"
   ]
  },
  {
   "cell_type": "code",
   "execution_count": null,
   "id": "d83dee3f-4212-4e9d-94a9-f4d005d42a68",
   "metadata": {},
   "outputs": [],
   "source": [
    "webpage.content"
   ]
  },
  {
   "cell_type": "code",
   "execution_count": null,
   "id": "98f1899d-3418-4c95-ada9-14bc3ef991a2",
   "metadata": {},
   "outputs": [],
   "source": [
    "type(webpage.content)"
   ]
  },
  {
   "cell_type": "code",
   "execution_count": null,
   "id": "ef830d79-5061-4357-aa25-546b3c560005",
   "metadata": {},
   "outputs": [],
   "source": [
    "# Convert the content from bytes to HTML\n",
    "soup = BeautifulSoup(webpage.content, \"html.parser\")"
   ]
  },
  {
   "cell_type": "code",
   "execution_count": null,
   "id": "c1cbfe54-3c33-456a-a1d7-14fe0c5684bf",
   "metadata": {},
   "outputs": [],
   "source": [
    "soup"
   ]
  },
  {
   "cell_type": "code",
   "execution_count": null,
   "id": "182f0a54-4f2c-4923-a53f-b692150ef7b4",
   "metadata": {},
   "outputs": [],
   "source": [
    "# Fetch links as List of tag objects\n",
    "links = soup.find_all(\"a\", attrs={'class': 'a-link-normal s-underline-text s-underline-link-text s-link-style a-text-normal'})"
   ]
  },
  {
   "cell_type": "code",
   "execution_count": null,
   "id": "4264653f-2c40-41a9-a136-a62ecd5f0472",
   "metadata": {},
   "outputs": [],
   "source": [
    "links"
   ]
  },
  {
   "cell_type": "code",
   "execution_count": null,
   "id": "f4446601-d3bd-4fbd-a3a2-e552a131269c",
   "metadata": {},
   "outputs": [],
   "source": [
    "links[1]\n",
    "#this product is currently unavaiable that's why it's not showing price so I'm using this"
   ]
  },
  {
   "cell_type": "code",
   "execution_count": null,
   "id": "031d95dd-7f89-46ea-9bd7-d1e1c5fe9e22",
   "metadata": {},
   "outputs": [],
   "source": [
    "links[2]"
   ]
  },
  {
   "cell_type": "code",
   "execution_count": null,
   "id": "74015a22-b7dc-4fe4-9841-b2d86bce3a91",
   "metadata": {},
   "outputs": [],
   "source": [
    "links[0] \n",
    "# this product doesn't have ratings that's why I'm not using this "
   ]
  },
  {
   "cell_type": "code",
   "execution_count": null,
   "id": "29263d98-aaee-421b-bc96-94f90fa990a9",
   "metadata": {},
   "outputs": [],
   "source": [
    "links[3]"
   ]
  },
  {
   "cell_type": "code",
   "execution_count": null,
   "id": "6401b853-863a-4056-ac54-2d23771e4cd4",
   "metadata": {},
   "outputs": [],
   "source": [
    "link = links[3].get('href')"
   ]
  },
  {
   "cell_type": "code",
   "execution_count": null,
   "id": "2062c4d6-a121-41df-b036-d5756b431a67",
   "metadata": {},
   "outputs": [],
   "source": [
    "product_list = \"https://amazon.com\" + link"
   ]
  },
  {
   "cell_type": "code",
   "execution_count": null,
   "id": "155e909e-b2c9-49e1-b205-637916bf4942",
   "metadata": {},
   "outputs": [],
   "source": [
    "product_list"
   ]
  },
  {
   "cell_type": "code",
   "execution_count": null,
   "id": "37ace12e-561c-48b3-967b-47e30bf5fa40",
   "metadata": {},
   "outputs": [],
   "source": [
    "# HTTP Request\n",
    "new_webpage = requests.get(product_list, headers= HEADERS)"
   ]
  },
  {
   "cell_type": "code",
   "execution_count": null,
   "id": "30879ed1-8495-4824-a6a0-90f7d86d01ec",
   "metadata": {},
   "outputs": [],
   "source": [
    "new_webpage"
   ]
  },
  {
   "cell_type": "code",
   "execution_count": null,
   "id": "9a7aa971-13ef-4adf-a028-9b6e59cd799f",
   "metadata": {},
   "outputs": [],
   "source": [
    "new_soup = BeautifulSoup(new_webpage.content, \"html.parser\")"
   ]
  },
  {
   "cell_type": "code",
   "execution_count": null,
   "id": "979677cd-b9da-49fb-a4bc-9ed1c7a72d33",
   "metadata": {},
   "outputs": [],
   "source": [
    "new_soup"
   ]
  },
  {
   "cell_type": "code",
   "execution_count": null,
   "id": "9149d5b0-53a2-4db7-8f1b-c4b64ef6de4f",
   "metadata": {},
   "outputs": [],
   "source": [
    "# Print the parsed HTML to verify the content\n",
    "print(new_soup.prettify())"
   ]
  },
  {
   "cell_type": "code",
   "execution_count": null,
   "id": "6221c3d6-185b-451e-b025-f058c5fa62fb",
   "metadata": {},
   "outputs": [],
   "source": [
    "new_soup.find(\"span\", attrs={\"id\":'productTitle'})"
   ]
  },
  {
   "cell_type": "code",
   "execution_count": null,
   "id": "5f410e48-ff8b-44d5-80e7-135b072a5208",
   "metadata": {},
   "outputs": [],
   "source": [
    "new_soup.find(\"span\", attrs={\"id\":'productTitle'}).text.strip()"
   ]
  },
  {
   "cell_type": "code",
   "execution_count": null,
   "id": "b387eb46-e6ff-4ca0-a415-1737875963ab",
   "metadata": {},
   "outputs": [],
   "source": [
    "new_soup.find(\"span\", attrs={\"class\":'a-price aok-align-center'})"
   ]
  },
  {
   "cell_type": "code",
   "execution_count": null,
   "id": "b2d5f409-09cb-4673-bbb8-50a154910fb6",
   "metadata": {},
   "outputs": [],
   "source": [
    "new_soup.find(\"span\", attrs={\"class\":'a-price aok-align-center'}).find(\"span\", attrs={\"class\": \"a-offscreen\"})"
   ]
  },
  {
   "cell_type": "code",
   "execution_count": null,
   "id": "a1440dee-2465-46f3-b7e2-4b1047adae66",
   "metadata": {},
   "outputs": [],
   "source": [
    "new_soup.find(\"span\", attrs={\"class\":'a-price aok-align-center'}).find(\"span\", attrs={\"class\": \"a-offscreen\"}).text"
   ]
  },
  {
   "cell_type": "code",
   "execution_count": null,
   "id": "0a5dfb9c-6c87-4322-95be-bcc2313d9953",
   "metadata": {},
   "outputs": [],
   "source": [
    "new_soup.find(\"span\", attrs={\"class\":'a-icon-alt'})"
   ]
  },
  {
   "cell_type": "code",
   "execution_count": null,
   "id": "930cdc82-a67c-4e5d-a653-656dcb58e400",
   "metadata": {},
   "outputs": [],
   "source": [
    "new_soup.find(\"span\", attrs={\"class\":'a-icon-alt'}).text"
   ]
  },
  {
   "cell_type": "code",
   "execution_count": null,
   "id": "e7374ab4-6863-4c06-9611-e38121142e4a",
   "metadata": {},
   "outputs": [],
   "source": []
  }
 ],
 "metadata": {
  "kernelspec": {
   "display_name": "Python 3 (ipykernel)",
   "language": "python",
   "name": "python3"
  },
  "language_info": {
   "codemirror_mode": {
    "name": "ipython",
    "version": 3
   },
   "file_extension": ".py",
   "mimetype": "text/x-python",
   "name": "python",
   "nbconvert_exporter": "python",
   "pygments_lexer": "ipython3",
   "version": "3.12.4"
  }
 },
 "nbformat": 4,
 "nbformat_minor": 5
}
